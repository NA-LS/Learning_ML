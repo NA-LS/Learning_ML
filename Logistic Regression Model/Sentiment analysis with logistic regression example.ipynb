{
 "cells": [
  {
   "cell_type": "markdown",
   "id": "a3ad86ff",
   "metadata": {},
   "source": [
    "# Import libaries"
   ]
  },
  {
   "cell_type": "code",
   "execution_count": 1,
   "id": "491c2182",
   "metadata": {},
   "outputs": [],
   "source": [
    "import pandas as pd\n",
    "\n",
    "from sklearn.model_selection import train_test_split\n",
    "from sklearn.linear_model import LogisticRegression"
   ]
  },
  {
   "cell_type": "markdown",
   "id": "7be06198",
   "metadata": {},
   "source": [
    "# Read file containing labeled data"
   ]
  },
  {
   "cell_type": "code",
   "execution_count": 2,
   "id": "ab2db1cd",
   "metadata": {},
   "outputs": [
    {
     "data": {
      "text/html": [
       "<div>\n",
       "<style scoped>\n",
       "    .dataframe tbody tr th:only-of-type {\n",
       "        vertical-align: middle;\n",
       "    }\n",
       "\n",
       "    .dataframe tbody tr th {\n",
       "        vertical-align: top;\n",
       "    }\n",
       "\n",
       "    .dataframe thead th {\n",
       "        text-align: right;\n",
       "    }\n",
       "</style>\n",
       "<table border=\"1\" class=\"dataframe\">\n",
       "  <thead>\n",
       "    <tr style=\"text-align: right;\">\n",
       "      <th></th>\n",
       "      <th>words</th>\n",
       "      <th>rating</th>\n",
       "      <th>senti</th>\n",
       "    </tr>\n",
       "  </thead>\n",
       "  <tbody>\n",
       "    <tr>\n",
       "      <th>0</th>\n",
       "      <td>good</td>\n",
       "      <td>0.65</td>\n",
       "      <td>1</td>\n",
       "    </tr>\n",
       "    <tr>\n",
       "      <th>1</th>\n",
       "      <td>great</td>\n",
       "      <td>0.70</td>\n",
       "      <td>1</td>\n",
       "    </tr>\n",
       "    <tr>\n",
       "      <th>2</th>\n",
       "      <td>fantastic</td>\n",
       "      <td>0.75</td>\n",
       "      <td>1</td>\n",
       "    </tr>\n",
       "    <tr>\n",
       "      <th>3</th>\n",
       "      <td>amazing</td>\n",
       "      <td>0.78</td>\n",
       "      <td>1</td>\n",
       "    </tr>\n",
       "    <tr>\n",
       "      <th>4</th>\n",
       "      <td>wonderful</td>\n",
       "      <td>0.80</td>\n",
       "      <td>1</td>\n",
       "    </tr>\n",
       "  </tbody>\n",
       "</table>\n",
       "</div>"
      ],
      "text/plain": [
       "       words  rating  senti\n",
       "0       good    0.65      1\n",
       "1      great    0.70      1\n",
       "2  fantastic    0.75      1\n",
       "3    amazing    0.78      1\n",
       "4  wonderful    0.80      1"
      ]
     },
     "execution_count": 2,
     "metadata": {},
     "output_type": "execute_result"
    }
   ],
   "source": [
    "df = pd.read_excel(\"senti labeled.xlsx\")\n",
    "df.head()"
   ]
  },
  {
   "cell_type": "markdown",
   "id": "3321a513",
   "metadata": {},
   "source": [
    "# Use the labeled data to train a logistic regression model "
   ]
  },
  {
   "cell_type": "markdown",
   "id": "5d3a858f",
   "metadata": {},
   "source": [
    "#### 1. Choose what you want the model to predict (target ~ in this case senti) and what it must predict it from (rating)"
   ]
  },
  {
   "cell_type": "code",
   "execution_count": 3,
   "id": "b321bef6",
   "metadata": {},
   "outputs": [],
   "source": [
    "y = df.senti # Target you want to predict \n",
    "X = df[[\"rating\"]] # Data used to predict the target "
   ]
  },
  {
   "cell_type": "markdown",
   "id": "f5095777",
   "metadata": {},
   "source": [
    "#### 2. Split data for training and testing "
   ]
  },
  {
   "cell_type": "code",
   "execution_count": 4,
   "id": "971a872a",
   "metadata": {},
   "outputs": [],
   "source": [
    "X_train, X_test, y_train, y_test = train_test_split(X,y,train_size=0.9)"
   ]
  },
  {
   "cell_type": "markdown",
   "id": "eeb3fbb8",
   "metadata": {},
   "source": [
    "#### 3. Initialise and fit/train the model on the labeled data"
   ]
  },
  {
   "cell_type": "code",
   "execution_count": 5,
   "id": "b227aa8d",
   "metadata": {},
   "outputs": [
    {
     "data": {
      "text/plain": [
       "LogisticRegression()"
      ]
     },
     "execution_count": 5,
     "metadata": {},
     "output_type": "execute_result"
    }
   ],
   "source": [
    "LR_model = LogisticRegression() # Initialise model\n",
    "\n",
    "LR_model.fit(X_train.values, y_train) # Fit the model"
   ]
  },
  {
   "cell_type": "markdown",
   "id": "6c868b0c",
   "metadata": {},
   "source": [
    "# Example using the trained logistic regression model to predict the sentiment of a sentence "
   ]
  },
  {
   "cell_type": "markdown",
   "id": "09e8dcbb",
   "metadata": {},
   "source": [
    "#### Add a sentence to predict the sentiment of "
   ]
  },
  {
   "cell_type": "code",
   "execution_count": 6,
   "id": "d61d5a21",
   "metadata": {},
   "outputs": [],
   "source": [
    "sentence = [\"I love how you hate coding\"]\n",
    "converted_sentence = sentence[0].split() # Put each word as its own elemnt"
   ]
  },
  {
   "cell_type": "markdown",
   "id": "68898169",
   "metadata": {},
   "source": [
    "#### Create a dictionary of words and there corresponding ratings and determine whether they are in the sentence"
   ]
  },
  {
   "cell_type": "code",
   "execution_count": 7,
   "id": "1f89728d",
   "metadata": {},
   "outputs": [],
   "source": [
    "dictionary = [\"love\", \"wonderful\", \"great\", \"fantastic\", \"good\", \"best\", \"worst\", \"bad\", \"suck\", \"hate\"]\n",
    "rating_words = [0.85, 0.8, 0.65, 0.75, 0.6, 0.85, 0.1, 0.4, 0.35, 0.2]\n",
    "\n",
    "def list_contains(List1, List2): \n",
    "    set1 = set(List1) \n",
    "    set2 = set(List2) \n",
    "    \n",
    "    if set1.intersection(set2):\n",
    "        return set1.intersection(set2)\n",
    "\n",
    "matching_words = list(list_contains(converted_sentence, dictionary))"
   ]
  },
  {
   "cell_type": "markdown",
   "id": "1193bd9c",
   "metadata": {},
   "source": [
    "#### Determine the index of the matching words in the dictionary and extract there ratings"
   ]
  },
  {
   "cell_type": "code",
   "execution_count": 8,
   "id": "cae7f332",
   "metadata": {},
   "outputs": [
    {
     "name": "stdout",
     "output_type": "stream",
     "text": [
      "0.525\n"
     ]
    }
   ],
   "source": [
    "index_of_words = []\n",
    "for word in matching_words:\n",
    "    index_of_words.append(dictionary.index(word))\n",
    "\n",
    "rating_total = 0\n",
    "for index in index_of_words:\n",
    "    rating_total += rating_words[index]\n",
    "\n",
    "rating_avg = rating_total/len(index_of_words)\n",
    "print(rating_avg)"
   ]
  },
  {
   "cell_type": "markdown",
   "id": "4c98d60d",
   "metadata": {},
   "source": [
    "#### Use the logistic regression model to predict the sentiment of the sentence"
   ]
  },
  {
   "cell_type": "code",
   "execution_count": 9,
   "id": "7463f1df",
   "metadata": {},
   "outputs": [
    {
     "name": "stdout",
     "output_type": "stream",
     "text": [
      "Bad sentiment\n"
     ]
    }
   ],
   "source": [
    "if LR_model.predict([[rating_avg]])[0] == 1:\n",
    "    print(\"Good sentiment\")\n",
    "else:\n",
    "    print(\"Bad sentiment\")"
   ]
  },
  {
   "cell_type": "code",
   "execution_count": null,
   "id": "1b29df0d",
   "metadata": {},
   "outputs": [],
   "source": []
  }
 ],
 "metadata": {
  "kernelspec": {
   "display_name": "Python 3 (ipykernel)",
   "language": "python",
   "name": "python3"
  },
  "language_info": {
   "codemirror_mode": {
    "name": "ipython",
    "version": 3
   },
   "file_extension": ".py",
   "mimetype": "text/x-python",
   "name": "python",
   "nbconvert_exporter": "python",
   "pygments_lexer": "ipython3",
   "version": "3.7.6"
  }
 },
 "nbformat": 4,
 "nbformat_minor": 5
}
